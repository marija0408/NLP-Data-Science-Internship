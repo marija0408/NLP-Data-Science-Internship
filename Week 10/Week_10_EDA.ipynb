{
 "cells": [
  {
   "cell_type": "code",
   "execution_count": 1,
   "id": "6551e458",
   "metadata": {},
   "outputs": [],
   "source": [
    "import pandas as pd\n",
    "import numpy as np"
   ]
  },
  {
   "cell_type": "markdown",
   "id": "b89be4b3",
   "metadata": {},
   "source": [
    "Load the dataset that was prepared previously"
   ]
  },
  {
   "cell_type": "code",
   "execution_count": 2,
   "id": "ab651feb",
   "metadata": {},
   "outputs": [],
   "source": [
    "data = pd.read_csv('newsgroup_data')"
   ]
  },
  {
   "cell_type": "code",
   "execution_count": 3,
   "id": "3208573d",
   "metadata": {},
   "outputs": [
    {
     "data": {
      "text/html": [
       "<div>\n",
       "<style scoped>\n",
       "    .dataframe tbody tr th:only-of-type {\n",
       "        vertical-align: middle;\n",
       "    }\n",
       "\n",
       "    .dataframe tbody tr th {\n",
       "        vertical-align: top;\n",
       "    }\n",
       "\n",
       "    .dataframe thead th {\n",
       "        text-align: right;\n",
       "    }\n",
       "</style>\n",
       "<table border=\"1\" class=\"dataframe\">\n",
       "  <thead>\n",
       "    <tr style=\"text-align: right;\">\n",
       "      <th></th>\n",
       "      <th>id</th>\n",
       "      <th>message</th>\n",
       "      <th>class</th>\n",
       "    </tr>\n",
       "  </thead>\n",
       "  <tbody>\n",
       "    <tr>\n",
       "      <th>0</th>\n",
       "      <td>0</td>\n",
       "      <td>Archive-name: atheism/resources Alt-atheism-ar...</td>\n",
       "      <td>0</td>\n",
       "    </tr>\n",
       "    <tr>\n",
       "      <th>1</th>\n",
       "      <td>1</td>\n",
       "      <td>Archive-name: atheism/introduction Alt-atheism...</td>\n",
       "      <td>0</td>\n",
       "    </tr>\n",
       "    <tr>\n",
       "      <th>2</th>\n",
       "      <td>2</td>\n",
       "      <td>In article &lt;65974@mimsy.umd.edu&gt; mangoe@cs.umd...</td>\n",
       "      <td>0</td>\n",
       "    </tr>\n",
       "    <tr>\n",
       "      <th>3</th>\n",
       "      <td>3</td>\n",
       "      <td>dmn@kepler.unh.edu (...until kings become phil...</td>\n",
       "      <td>0</td>\n",
       "    </tr>\n",
       "    <tr>\n",
       "      <th>4</th>\n",
       "      <td>4</td>\n",
       "      <td>In article &lt;N4HY.93Apr5120934@harder.ccr-p.ida...</td>\n",
       "      <td>0</td>\n",
       "    </tr>\n",
       "  </tbody>\n",
       "</table>\n",
       "</div>"
      ],
      "text/plain": [
       "   id                                            message  class\n",
       "0   0  Archive-name: atheism/resources Alt-atheism-ar...      0\n",
       "1   1  Archive-name: atheism/introduction Alt-atheism...      0\n",
       "2   2  In article <65974@mimsy.umd.edu> mangoe@cs.umd...      0\n",
       "3   3  dmn@kepler.unh.edu (...until kings become phil...      0\n",
       "4   4  In article <N4HY.93Apr5120934@harder.ccr-p.ida...      0"
      ]
     },
     "execution_count": 3,
     "metadata": {},
     "output_type": "execute_result"
    }
   ],
   "source": [
    "data.head()"
   ]
  },
  {
   "cell_type": "markdown",
   "id": "074cb095",
   "metadata": {},
   "source": [
    "Set X and y values"
   ]
  },
  {
   "cell_type": "code",
   "execution_count": 4,
   "id": "62363384",
   "metadata": {},
   "outputs": [],
   "source": [
    "X = data[['id', 'message']]\n",
    "y = data['class']"
   ]
  },
  {
   "cell_type": "markdown",
   "id": "3769ac12",
   "metadata": {},
   "source": [
    "Do a test/train split. Usualy one would do 25/75 split, but this can be changed"
   ]
  },
  {
   "cell_type": "code",
   "execution_count": 130,
   "id": "32ae514c",
   "metadata": {},
   "outputs": [],
   "source": [
    "from sklearn.model_selection import train_test_split\n",
    "X_train, X_test, y_train, y_test = train_test_split(X, y, test_size=0.25)"
   ]
  },
  {
   "cell_type": "code",
   "execution_count": 131,
   "id": "3b9c2d06",
   "metadata": {},
   "outputs": [
    {
     "name": "stderr",
     "output_type": "stream",
     "text": [
      "C:\\Users\\Marija\\AppData\\Local\\Temp\\ipykernel_5976\\245487900.py:2: FutureWarning: The behavior of `series[i:j]` with an integer-dtype index is deprecated. In a future version, this will be treated as *label-based* indexing, consistent with e.g. `series[i]` lookups. To retain the old behavior, use `series.iloc[i:j]`. To get the future behavior, use `series.loc[i:j]`.\n",
      "  y_train = y_train[:7000]\n"
     ]
    }
   ],
   "source": [
    "X_train = X_train[:7000]\n",
    "y_train = y_train[:7000]"
   ]
  },
  {
   "cell_type": "code",
   "execution_count": 132,
   "id": "2d37ab36",
   "metadata": {},
   "outputs": [
    {
     "name": "stderr",
     "output_type": "stream",
     "text": [
      "C:\\Users\\Marija\\AppData\\Local\\Temp\\ipykernel_5976\\2082664043.py:2: FutureWarning: The behavior of `series[i:j]` with an integer-dtype index is deprecated. In a future version, this will be treated as *label-based* indexing, consistent with e.g. `series[i]` lookups. To retain the old behavior, use `series.iloc[i:j]`. To get the future behavior, use `series.loc[i:j]`.\n",
      "  y_test = y_test[:3000]\n"
     ]
    }
   ],
   "source": [
    "X_test = X_test[:3000]\n",
    "y_test = y_test[:3000]"
   ]
  },
  {
   "cell_type": "markdown",
   "id": "633b669d",
   "metadata": {},
   "source": [
    "Creating a matrix with messages as rows and words as columns (every word that appears in each message)"
   ]
  },
  {
   "cell_type": "code",
   "execution_count": 133,
   "id": "98410ffb",
   "metadata": {},
   "outputs": [
    {
     "data": {
      "text/plain": [
       "(7000, 80866)"
      ]
     },
     "execution_count": 133,
     "metadata": {},
     "output_type": "execute_result"
    }
   ],
   "source": [
    "from sklearn.feature_extraction.text import CountVectorizer\n",
    "\n",
    "count_vect = CountVectorizer()\n",
    "X_train_counts = count_vect.fit_transform(X_train.message.values.astype('U'))\n",
    "X_train_counts.shape"
   ]
  },
  {
   "cell_type": "markdown",
   "id": "a5f0b0ee",
   "metadata": {},
   "source": [
    "Using the TF-IDF algorithm to cut the noise out of the word vectors."
   ]
  },
  {
   "cell_type": "code",
   "execution_count": 134,
   "id": "7403d077",
   "metadata": {},
   "outputs": [
    {
     "data": {
      "text/plain": [
       "(7000, 80866)"
      ]
     },
     "execution_count": 134,
     "metadata": {},
     "output_type": "execute_result"
    }
   ],
   "source": [
    "from sklearn.feature_extraction.text import TfidfTransformer\n",
    "\n",
    "tfidf_transformer = TfidfTransformer()\n",
    "X_train_tfidf = tfidf_transformer.fit_transform(X_train_counts)\n",
    "X_train_tfidf.shape"
   ]
  },
  {
   "cell_type": "markdown",
   "id": "b2bb1a4c",
   "metadata": {},
   "source": [
    "Training the classifier"
   ]
  },
  {
   "cell_type": "code",
   "execution_count": 135,
   "id": "92c9d936",
   "metadata": {},
   "outputs": [],
   "source": [
    "from sklearn.naive_bayes import MultinomialNB\n",
    "NBModel = MultinomialNB().fit(X_train_tfidf, y_train)"
   ]
  },
  {
   "cell_type": "markdown",
   "id": "38b011dc",
   "metadata": {},
   "source": [
    "Checking the model on test data"
   ]
  },
  {
   "cell_type": "code",
   "execution_count": 136,
   "id": "8b455ed8",
   "metadata": {},
   "outputs": [],
   "source": [
    "X_test_counts = count_vect.transform(X_test.message.values.astype('U'))\n",
    "X_test_tfidf = tfidf_transformer.transform(X_test_counts)\n",
    "NB_predicted = NBModel.predict(X_test_tfidf)"
   ]
  },
  {
   "cell_type": "code",
   "execution_count": 137,
   "id": "2490646b",
   "metadata": {},
   "outputs": [
    {
     "data": {
      "text/html": [
       "<div>\n",
       "<style scoped>\n",
       "    .dataframe tbody tr th:only-of-type {\n",
       "        vertical-align: middle;\n",
       "    }\n",
       "\n",
       "    .dataframe tbody tr th {\n",
       "        vertical-align: top;\n",
       "    }\n",
       "\n",
       "    .dataframe thead th {\n",
       "        text-align: right;\n",
       "    }\n",
       "</style>\n",
       "<table border=\"1\" class=\"dataframe\">\n",
       "  <thead>\n",
       "    <tr style=\"text-align: right;\">\n",
       "      <th></th>\n",
       "      <th>Predicted</th>\n",
       "    </tr>\n",
       "  </thead>\n",
       "  <tbody>\n",
       "    <tr>\n",
       "      <th>0</th>\n",
       "      <td>14</td>\n",
       "    </tr>\n",
       "    <tr>\n",
       "      <th>1</th>\n",
       "      <td>15</td>\n",
       "    </tr>\n",
       "    <tr>\n",
       "      <th>2</th>\n",
       "      <td>7</td>\n",
       "    </tr>\n",
       "    <tr>\n",
       "      <th>3</th>\n",
       "      <td>3</td>\n",
       "    </tr>\n",
       "    <tr>\n",
       "      <th>4</th>\n",
       "      <td>8</td>\n",
       "    </tr>\n",
       "  </tbody>\n",
       "</table>\n",
       "</div>"
      ],
      "text/plain": [
       "   Predicted\n",
       "0         14\n",
       "1         15\n",
       "2          7\n",
       "3          3\n",
       "4          8"
      ]
     },
     "execution_count": 137,
     "metadata": {},
     "output_type": "execute_result"
    }
   ],
   "source": [
    "predicted = pd.DataFrame(NB_predicted, columns =['Predicted'])\n",
    "predicted.head()"
   ]
  },
  {
   "cell_type": "code",
   "execution_count": 138,
   "id": "c7d658a2",
   "metadata": {},
   "outputs": [],
   "source": [
    "comparison = pd.concat([y_test.reset_index()['class'],predicted], axis=1)"
   ]
  },
  {
   "cell_type": "code",
   "execution_count": 139,
   "id": "93c6271a",
   "metadata": {},
   "outputs": [],
   "source": [
    "comparison['CorrectBool'] = np.where(comparison['class']==comparison['Predicted'], 1, 0)"
   ]
  },
  {
   "cell_type": "code",
   "execution_count": 140,
   "id": "4545b7f5",
   "metadata": {},
   "outputs": [
    {
     "data": {
      "text/plain": [
       "3000"
      ]
     },
     "execution_count": 140,
     "metadata": {},
     "output_type": "execute_result"
    }
   ],
   "source": [
    "comparison.shape[0]"
   ]
  },
  {
   "cell_type": "code",
   "execution_count": 141,
   "id": "27930653",
   "metadata": {},
   "outputs": [],
   "source": [
    "results = comparison.groupby('CorrectBool')['class'].count()"
   ]
  },
  {
   "cell_type": "code",
   "execution_count": 142,
   "id": "22934629",
   "metadata": {},
   "outputs": [
    {
     "data": {
      "text/plain": [
       "CorrectBool\n",
       "0    0.258333\n",
       "1    0.741667\n",
       "Name: class, dtype: float64"
      ]
     },
     "execution_count": 142,
     "metadata": {},
     "output_type": "execute_result"
    }
   ],
   "source": [
    "results/comparison.shape[0]"
   ]
  },
  {
   "cell_type": "markdown",
   "id": "d4de0da2",
   "metadata": {},
   "source": [
    "The results are correct 74.2% of the time"
   ]
  },
  {
   "cell_type": "code",
   "execution_count": null,
   "id": "10c31187",
   "metadata": {},
   "outputs": [],
   "source": []
  }
 ],
 "metadata": {
  "kernelspec": {
   "display_name": "Python 3 (ipykernel)",
   "language": "python",
   "name": "python3"
  },
  "language_info": {
   "codemirror_mode": {
    "name": "ipython",
    "version": 3
   },
   "file_extension": ".py",
   "mimetype": "text/x-python",
   "name": "python",
   "nbconvert_exporter": "python",
   "pygments_lexer": "ipython3",
   "version": "3.9.11"
  }
 },
 "nbformat": 4,
 "nbformat_minor": 5
}
