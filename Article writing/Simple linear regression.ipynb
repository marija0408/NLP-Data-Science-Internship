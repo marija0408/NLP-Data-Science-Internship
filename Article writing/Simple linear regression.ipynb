{
 "cells": [
  {
   "cell_type": "markdown",
   "id": "7e8922d9",
   "metadata": {},
   "source": [
    "First thing we have to do is import needed libraries.\n",
    "1. pandas - reading the dataframe and dataframe manipulation\n",
    "2. numpy - for mathematical operations\n",
    "3. seaborn - for scatterplot\n",
    "4. matplotlib - for line plotting"
   ]
  },
  {
   "cell_type": "code",
   "execution_count": 1,
   "id": "46f481a1",
   "metadata": {},
   "outputs": [],
   "source": [
    "import numpy as np\n",
    "import pandas as pd\n",
    "import seaborn as sns\n",
    "import matplotlib.pyplot as plt "
   ]
  },
  {
   "cell_type": "markdown",
   "id": "ced64827",
   "metadata": {},
   "source": [
    "The data is stores in Salary_Data.csv file. There are two columns: YearsExperience and Salary"
   ]
  },
  {
   "cell_type": "code",
   "execution_count": 2,
   "id": "e0834f51",
   "metadata": {},
   "outputs": [],
   "source": [
    "data = pd.read_csv('Salary_Data.csv')"
   ]
  },
  {
   "cell_type": "code",
   "execution_count": 3,
   "id": "349eaf1c",
   "metadata": {},
   "outputs": [
    {
     "data": {
      "text/html": [
       "<div>\n",
       "<style scoped>\n",
       "    .dataframe tbody tr th:only-of-type {\n",
       "        vertical-align: middle;\n",
       "    }\n",
       "\n",
       "    .dataframe tbody tr th {\n",
       "        vertical-align: top;\n",
       "    }\n",
       "\n",
       "    .dataframe thead th {\n",
       "        text-align: right;\n",
       "    }\n",
       "</style>\n",
       "<table border=\"1\" class=\"dataframe\">\n",
       "  <thead>\n",
       "    <tr style=\"text-align: right;\">\n",
       "      <th></th>\n",
       "      <th>YearsExperience</th>\n",
       "      <th>Salary</th>\n",
       "    </tr>\n",
       "  </thead>\n",
       "  <tbody>\n",
       "    <tr>\n",
       "      <th>0</th>\n",
       "      <td>1.1</td>\n",
       "      <td>39343.0</td>\n",
       "    </tr>\n",
       "    <tr>\n",
       "      <th>1</th>\n",
       "      <td>1.3</td>\n",
       "      <td>46205.0</td>\n",
       "    </tr>\n",
       "    <tr>\n",
       "      <th>2</th>\n",
       "      <td>1.5</td>\n",
       "      <td>37731.0</td>\n",
       "    </tr>\n",
       "    <tr>\n",
       "      <th>3</th>\n",
       "      <td>2.0</td>\n",
       "      <td>43525.0</td>\n",
       "    </tr>\n",
       "    <tr>\n",
       "      <th>4</th>\n",
       "      <td>2.2</td>\n",
       "      <td>39891.0</td>\n",
       "    </tr>\n",
       "  </tbody>\n",
       "</table>\n",
       "</div>"
      ],
      "text/plain": [
       "   YearsExperience   Salary\n",
       "0              1.1  39343.0\n",
       "1              1.3  46205.0\n",
       "2              1.5  37731.0\n",
       "3              2.0  43525.0\n",
       "4              2.2  39891.0"
      ]
     },
     "execution_count": 3,
     "metadata": {},
     "output_type": "execute_result"
    }
   ],
   "source": [
    "data.head()"
   ]
  },
  {
   "cell_type": "markdown",
   "id": "80bc9005",
   "metadata": {},
   "source": [
    "Let's plot Years of experience by salary graph"
   ]
  },
  {
   "cell_type": "code",
   "execution_count": 4,
   "id": "bfba3b3e",
   "metadata": {},
   "outputs": [
    {
     "data": {
      "text/plain": [
       "Text(0, 0.5, 'Salary')"
      ]
     },
     "execution_count": 4,
     "metadata": {},
     "output_type": "execute_result"
    },
    {
     "data": {
      "image/png": "[encoded data removed]",
      "text/plain": [
       "<Figure size 432x288 with 1 Axes>"
      ]
     },
     "metadata": {
      "needs_background": "light"
     },
     "output_type": "display_data"
    }
   ],
   "source": [
    "fig = sns.scatterplot(data = data ,x ='YearsExperience',y ='Salary')\n",
    "fig.set_xlabel('Years of experience')\n",
    "fig.set_ylabel('Salary')\n"
   ]
  },
  {
   "cell_type": "markdown",
   "id": "3d276cff",
   "metadata": {},
   "source": [
    "Now we will implement linear regression. First thing we are going to do is to make two functions. \n",
    "One function will be used for calculating \"a\" value from the line formula and the other function will be for calculating the \"b\" value. Make sure to check the calculations from the second part of the article."
   ]
  },
  {
   "cell_type": "code",
   "execution_count": 16,
   "id": "d971bc51",
   "metadata": {},
   "outputs": [],
   "source": [
    "def calculate_a (x,y):\n",
    "    #x is a numpy array - list of years of experience values\n",
    "    #y is a numpy array - list of salary values\n",
    "    numerator = np.sum((x*y) - (y.mean()*x))\n",
    "    denominator =  np.sum((x**2) - (x.mean()*x))\n",
    "    return numerator / denominator\n"
   ]
  },
  {
   "cell_type": "code",
   "execution_count": 17,
   "id": "10e11f6f",
   "metadata": {},
   "outputs": [],
   "source": [
    "def calculate_b(x, y):\n",
    "    return np.mean(y) - calculate_a(x,y)*np.mean(x)"
   ]
  },
  {
   "cell_type": "markdown",
   "id": "e5873337",
   "metadata": {},
   "source": [
    "Now that we have our functions, we can use the data we have to call those functions and calculate a and b values.\n"
   ]
  },
  {
   "cell_type": "code",
   "execution_count": 18,
   "id": "f09e4b0a",
   "metadata": {},
   "outputs": [],
   "source": [
    "x = np.array(data['YearsExperience'])\n",
    "y = np.array(data['Salary'])"
   ]
  },
  {
   "cell_type": "code",
   "execution_count": 19,
   "id": "0248f2b7",
   "metadata": {},
   "outputs": [],
   "source": [
    "a = calculate_a(x,y)\n",
    "b  = calculate_b (x,y)"
   ]
  },
  {
   "cell_type": "code",
   "execution_count": 20,
   "id": "8e068586",
   "metadata": {},
   "outputs": [
    {
     "name": "stdout",
     "output_type": "stream",
     "text": [
      "a is 9449.962321455077, b is 25792.20019866869\n"
     ]
    }
   ],
   "source": [
    "print(f'a is {a}, b is {b}')"
   ]
  },
  {
   "cell_type": "markdown",
   "id": "6a2e1934",
   "metadata": {},
   "source": [
    "Now we can plot out scatterplot along with the line y = 9449.962321455077 * x + 25792.20019866869.\n",
    "\n",
    "To plot the line we will use two x values: 0 and 12\n",
    "1. for x=0, value of y is b\n",
    "2. for x=12, value of y is a*12+b"
   ]
  },
  {
   "cell_type": "code",
   "execution_count": 30,
   "id": "4dc3e601",
   "metadata": {},
   "outputs": [
    {
     "data": {
      "text/plain": [
       "[<matplotlib.lines.Line2D at 0x1ebbe4ad3a0>,\n",
       " <matplotlib.lines.Line2D at 0x1ebbe4ad7c0>]"
      ]
     },
     "execution_count": 30,
     "metadata": {},
     "output_type": "execute_result"
    },
    {
     "data": {
      "image/png": "[encoded data removed]",
      "text/plain": [
       "<Figure size 432x288 with 1 Axes>"
      ]
     },
     "metadata": {
      "needs_background": "light"
     },
     "output_type": "display_data"
    }
   ],
   "source": [
    "fig = sns.scatterplot(data = data ,x ='YearsExperience',y ='Salary')\n",
    "fig.set_xlabel('Years of experience')\n",
    "fig.set_ylabel('Salary')\n",
    "plt.plot([0,12],[b,a*12+b],0,12)\n"
   ]
  }
 ],
 "metadata": {
  "kernelspec": {
   "display_name": "Python 3 (ipykernel)",
   "language": "python",
   "name": "python3"
  },
  "language_info": {
   "codemirror_mode": {
    "name": "ipython",
    "version": 3
   },
   "file_extension": ".py",
   "mimetype": "text/x-python",
   "name": "python",
   "nbconvert_exporter": "python",
   "pygments_lexer": "ipython3",
   "version": "3.9.11"
  }
 },
 "nbformat": 4,
 "nbformat_minor": 5
}
